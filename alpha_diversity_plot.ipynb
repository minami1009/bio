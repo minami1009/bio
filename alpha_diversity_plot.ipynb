{
  "nbformat": 4,
  "nbformat_minor": 0,
  "metadata": {
    "colab": {
      "provenance": [],
      "authorship_tag": "ABX9TyO8P0n2WHFksiVkX8or8m+N",
      "include_colab_link": true
    },
    "kernelspec": {
      "name": "python3",
      "display_name": "Python 3"
    },
    "language_info": {
      "name": "python"
    }
  },
  "cells": [
    {
      "cell_type": "markdown",
      "metadata": {
        "id": "view-in-github",
        "colab_type": "text"
      },
      "source": [
        "<a href=\"https://colab.research.google.com/github/minami1009/bio/blob/main/alpha_diversity_plot.ipynb\" target=\"_parent\"><img src=\"https://colab.research.google.com/assets/colab-badge.svg\" alt=\"Open In Colab\"/></a>"
      ]
    },
    {
      "cell_type": "code",
      "source": [
        "#import libraries\n",
        "import pandas as pd\n",
        "import matplotlib.pyplot as plt\n",
        "import seaborn as sns"
      ],
      "metadata": {
        "id": "m77CZdL0vv--"
      },
      "execution_count": null,
      "outputs": []
    },
    {
      "cell_type": "code",
      "source": [
        "file_path=\"/content/shannon_byday.csv\"\n",
        "df=pd.read_csv(file_path)\n",
        "print(df)"
      ],
      "metadata": {
        "id": "A5ndg7EwSeVU"
      },
      "execution_count": null,
      "outputs": []
    },
    {
      "cell_type": "code",
      "source": [
        "df_melted = df.melt(var_name=\"day\",value_name=\"values\")\n",
        "sns.set(font_scale=2)\n",
        "print(df_melted)"
      ],
      "metadata": {
        "id": "jqwR9Bm3Gud5"
      },
      "execution_count": null,
      "outputs": []
    },
    {
      "cell_type": "code",
      "source": [
        "plt.style.use(\"default\")\n",
        "#sns.set(font_scale=2)\n",
        "\n",
        "flatui = [\"red\", \"blue\", \"orange\", \"green\", \"purple\"]\n",
        "\n",
        "#sns.palplot(sns.color_palette(flatui))\n",
        "sns.set_palette(flatui)\n",
        "\n",
        "sns.boxplot(y=\"values\",x=\"day\",data=df_melted) #boxplot, stripplot, swarmplot, violinplot\n",
        "\n",
        "plt.ylim([0,8])\n",
        "plt.ylabel(\"Shannon index\")\n",
        "plt.show()"
      ],
      "metadata": {
        "colab": {
          "base_uri": "https://localhost:8080/",
          "height": 455
        },
        "id": "fwmgnGPOG507",
        "outputId": "905a1f2b-7b0b-4309-d2be-bc4c9200304c"
      },
      "execution_count": null,
      "outputs": [
        {
          "output_type": "display_data",
          "data": {
            "text/plain": [
              "<Figure size 640x480 with 1 Axes>"
            ],
            "image/png": "[encoded data removed]"
          },
          "metadata": {}
        }
      ]
    },
    {
      "cell_type": "code",
      "source": [
        "flatui = [\"red\", \"blue\", \"orange\", \"green\", \"purple\"]\n",
        "sns.palplot(sns.color_palette(flatui))"
      ],
      "metadata": {
        "colab": {
          "base_uri": "https://localhost:8080/",
          "height": 118
        },
        "id": "0-4x1B9K38SM",
        "outputId": "8ba1ddcb-1776-4c9d-9f2e-19b24da4dfa6"
      },
      "execution_count": null,
      "outputs": [
        {
          "output_type": "display_data",
          "data": {
            "text/plain": [
              "<Figure size 500x100 with 1 Axes>"
            ],
            "image/png": "[encoded data removed]"
          },
          "metadata": {}
        }
      ]
    }
  ]
}