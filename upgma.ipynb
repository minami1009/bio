{
  "nbformat": 4,
  "nbformat_minor": 0,
  "metadata": {
    "colab": {
      "provenance": [],
      "authorship_tag": "ABX9TyOKfH8epDdvQIckdggClReB",
      "include_colab_link": true
    },
    "kernelspec": {
      "name": "python3",
      "display_name": "Python 3"
    },
    "language_info": {
      "name": "python"
    }
  },
  "cells": [
    {
      "cell_type": "markdown",
      "metadata": {
        "id": "view-in-github",
        "colab_type": "text"
      },
      "source": [
        "<a href=\"https://colab.research.google.com/github/minami1009/bio/blob/main/upgma.ipynb\" target=\"_parent\"><img src=\"https://colab.research.google.com/assets/colab-badge.svg\" alt=\"Open In Colab\"/></a>"
      ]
    },
    {
      "cell_type": "code",
      "execution_count": null,
      "metadata": {
        "id": "N4zG1ErOBgCq"
      },
      "outputs": [],
      "source": [
        "#import libraries\n",
        "import pandas as pd\n",
        "import matplotlib.pyplot as plt\n",
        "import seaborn as sns\n",
        "\n",
        "#preparation of GoogleColab\n",
        "from google.colab import drive\n",
        "drive.mount('/content/drive')\n",
        "\n",
        "from google.colab import auth\n",
        "auth.authenticate_user()\n",
        "import gspread\n",
        "from google.auth import default\n",
        "creds, _ = default()\n",
        "gc = gspread.authorize(creds)"
      ]
    },
    {
      "cell_type": "code",
      "source": [
        "file_path=\"/content/drive/MyDrive/USalign_result3.csv\"\n",
        "df=pd.read_csv(file_path, sep='\\t')\n",
        "print(df)"
      ],
      "metadata": {
        "id": "Qjrc3ezlBrYj"
      },
      "execution_count": null,
      "outputs": []
    },
    {
      "cell_type": "code",
      "source": [
        "#df[\"TM_diff\"]=abs(df[\"TM1\"]-df[\"TM2\"])\n",
        "#df[\"TM*ID_diff\"]=abs(df[\"TM1\"]*df[\"L1\"]-df[\"TM2\"]*df[\"L2\"])\n",
        "df[\"TM_ave\"]=(df[\"TM1\"]*df[\"L1\"]+df[\"TM2\"]*df[\"L2\"])/(df[\"L1\"]+df[\"L2\"])\n",
        "#print(df.describe())\n",
        "\n",
        "plt.style.use('default')\n",
        "sns.set()\n",
        "sns.set_style('whitegrid')\n",
        "sns.set_palette('gray')\n",
        "\n",
        "fig = plt.figure()\n",
        "ax = fig.add_subplot(1, 1, 1)\n",
        "\n",
        "ax.violinplot(df[\"TM_ave\"])\n",
        "plt.show()\n"
      ],
      "metadata": {
        "id": "rqCFSJoDCYXJ"
      },
      "execution_count": null,
      "outputs": []
    },
    {
      "cell_type": "code",
      "source": [
        "max_value=df[\"TM_ave\"].max()\n",
        "min_value=df[\"TM_ave\"].min()\n",
        "df[\"TM_ave_scaled\"]=1-(df[\"TM_ave\"]-min_value)/(max_value-min_value)\n",
        "\n",
        "plt.style.use('default')\n",
        "sns.set()\n",
        "sns.set_style('whitegrid')\n",
        "sns.set_palette('gray')\n",
        "\n",
        "fig = plt.figure()\n",
        "ax = fig.add_subplot(1, 1, 1)\n",
        "\n",
        "ax.violinplot(df[\"TM_ave_scaled\"])\n",
        "plt.show()"
      ],
      "metadata": {
        "id": "3YUR7htcHPec"
      },
      "execution_count": null,
      "outputs": []
    },
    {
      "cell_type": "code",
      "source": [
        "distances = df.pivot(index='PDBchain1', columns='PDBchain2', values='TM_ave_scaled')\n",
        "\n",
        "# 距離行列を作成\n",
        "distance_matrix = distances.values\n",
        "\n",
        "# 距離行列にラベルを追加\n",
        "dm_df = pd.DataFrame(distance_matrix, index=distances.index, columns=distances.columns)\n",
        "\n",
        "print(dm_df)"
      ],
      "metadata": {
        "id": "wmXQcpcNIvYQ"
      },
      "execution_count": null,
      "outputs": []
    },
    {
      "cell_type": "code",
      "source": [
        "#1列目と最終行に追加\n",
        "dm_df.insert(0,\"A0A370CPH5.pdb:A\",0)  #55T2の場合はB8XY56.pdb:A\n",
        "dm_df.loc[\"X8FA76.pdb:A\"]=0 #55T2の場合はQ9NR97.pdb:A\n",
        "\n",
        "print(dm_df)"
      ],
      "metadata": {
        "id": "D0NM_TJKCmiQ"
      },
      "execution_count": null,
      "outputs": []
    },
    {
      "cell_type": "code",
      "source": [
        "#対角の成分は0にし、i,jをj,iの値で置き換える\n",
        "for i in list(range(len(dm_df))):\n",
        "  dm_df.iloc[i,i] = 0\n",
        "  for j in list(range(i)):\n",
        "    dm_df.iat[i,j]=dm_df.iat[j,i]\n",
        "print(dm_df)"
      ],
      "metadata": {
        "id": "ccURPloZDcvl"
      },
      "execution_count": null,
      "outputs": []
    },
    {
      "cell_type": "code",
      "source": [
        "namefile_path=\"/content/drive/MyDrive/name.csv\"\n",
        "df_name=pd.read_csv(namefile_path)\n",
        "print(df_name)"
      ],
      "metadata": {
        "id": "dX18btNxUBRL"
      },
      "execution_count": null,
      "outputs": []
    },
    {
      "cell_type": "code",
      "source": [
        "entry_list = list(dm_df.columns.values)\n",
        "print(entry_list)\n",
        "def id_to_name(entry_list, df_name):\n",
        "  # 変換したOrganismのリストを格納する空のリストを作成\n",
        "  transformed_organism_list = []\n",
        "\n",
        "  # Entryのリストに対応するOrganismを探し、変換したリストを作成\n",
        "  for entry in entry_list:\n",
        "    try:\n",
        "      transformed_organism = df_name.loc[df_name['Entry'] == entry[:-6], 'Organism'].values[0]\n",
        "      transformed_organism_list.append(transformed_organism)\n",
        "    except:\n",
        "      transformed_organism = entry\n",
        "      transformed_organism_list.append(transformed_organism)\n",
        "\n",
        "  # 結果のリストを表示\n",
        "  return transformed_organism_list\n",
        "\n",
        "organism_list = id_to_name(entry_list, df_name)\n",
        "print(organism_list)"
      ],
      "metadata": {
        "id": "RHlc7qkIULnK"
      },
      "execution_count": null,
      "outputs": []
    },
    {
      "cell_type": "code",
      "source": [
        "import numpy as np\n",
        "from scipy.cluster.hierarchy import linkage, dendrogram\n",
        "import matplotlib.pyplot as plt\n",
        "from google.colab import files\n",
        "\n",
        "\n",
        "# 距離行列を作成（ここでは仮のデータを使用）\n",
        "distance_matrix = dm_df\n",
        "\n",
        "# 階層的クラスタリングを実行\n",
        "# linkage関数では階層的クラスタリングアルゴリズムを指定します（ここではward法を使用）\n",
        "Z = linkage(distance_matrix, method='average')\n",
        "plt.figure(figsize=[10,30])\n",
        "\n",
        "# 樹形図を作成\n",
        "#dendrogram(Z,orientation=\"left\",labels=list(dm_df.columns.values))\n",
        "dendrogram(Z,orientation=\"left\",labels=organism_list)\n",
        "\n",
        "# グラフを表示\n",
        "plt.title('Dendrogram')\n",
        "plt.xlabel('Data Points')\n",
        "plt.ylabel('Distance')\n",
        "plt.rcParams[\"font.size\"] = 36\n",
        "#plt.show()\n",
        "#plt.axis('off')\n",
        "\n",
        "#plt.savefig(\"tree.png\")\n",
        "#files.download(\"tree.png\")"
      ],
      "metadata": {
        "id": "yDtxHYUrSpVt"
      },
      "execution_count": null,
      "outputs": []
    }
  ]
}