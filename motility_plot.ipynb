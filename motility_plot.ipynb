{
  "nbformat": 4,
  "nbformat_minor": 0,
  "metadata": {
    "colab": {
      "provenance": [],
      "authorship_tag": "ABX9TyPXf+9ha6p+5hQLo9qjpJ5b",
      "include_colab_link": true
    },
    "kernelspec": {
      "name": "python3",
      "display_name": "Python 3"
    },
    "language_info": {
      "name": "python"
    }
  },
  "cells": [
    {
      "cell_type": "markdown",
      "metadata": {
        "id": "view-in-github",
        "colab_type": "text"
      },
      "source": [
        "<a href=\"https://colab.research.google.com/github/minami1009/bio/blob/main/motility_plot.ipynb\" target=\"_parent\"><img src=\"https://colab.research.google.com/assets/colab-badge.svg\" alt=\"Open In Colab\"/></a>"
      ]
    },
    {
      "cell_type": "code",
      "source": [
        "#import libraries\n",
        "import pandas as pd\n",
        "import matplotlib.pyplot as plt\n",
        "import seaborn as sns\n",
        "\n",
        "#preparation of GoogleColab\n",
        "from google.colab import drive\n",
        "drive.mount('/content/drive')\n",
        "\n",
        "from google.colab import auth\n",
        "auth.authenticate_user()\n",
        "import gspread\n",
        "from google.auth import default\n",
        "creds, _ = default()\n",
        "gc = gspread.authorize(creds)"
      ],
      "metadata": {
        "id": "m77CZdL0vv--"
      },
      "execution_count": null,
      "outputs": []
    },
    {
      "cell_type": "code",
      "source": [
        "file_path=\"/content/drive/MyDrive/Gsuite/分子育種学/実験データ/運動性/0408/m9_1hr.csv\"\n",
        "df=pd.read_csv(file_path)\n",
        "print(df)"
      ],
      "metadata": {
        "id": "A5ndg7EwSeVU"
      },
      "execution_count": null,
      "outputs": []
    },
    {
      "cell_type": "code",
      "source": [
        "print(df.count())"
      ],
      "metadata": {
        "id": "KQAy3yxaHrTo"
      },
      "execution_count": null,
      "outputs": []
    },
    {
      "cell_type": "code",
      "source": [
        "df_melted = df.melt(var_name=\"strains\",value_name=\"values\")\n",
        "sns.set(font_scale=2)\n",
        "print(df_melted)"
      ],
      "metadata": {
        "id": "jqwR9Bm3Gud5"
      },
      "execution_count": null,
      "outputs": []
    },
    {
      "cell_type": "code",
      "source": [
        "sns.set(font_scale=2)\n",
        "sns.violinplot(y=\"values\",x=\"strains\",data=df_melted) #boxplot, stripplot, swarmplot, violinplot\n",
        "plt.ylabel(\"swim speed (µm/s)\")\n",
        "plt.show()"
      ],
      "metadata": {
        "id": "fwmgnGPOG507"
      },
      "execution_count": null,
      "outputs": []
    },
    {
      "cell_type": "code",
      "source": [
        "import numpy as np\n",
        "from scipy import stats\n",
        "\n",
        "A=df['motArna']\n",
        "B=df['wt']\n",
        "\n",
        "A_var = np.var(A, ddof=1)  # Aの不偏分散\n",
        "B_var = np.var(B, ddof=1)  # Bの不偏分散\n",
        "A_df = len(A) - 1  # Aの自由度\n",
        "B_df = len(B) - 1  # Bの自由度\n",
        "f = A_var / B_var  # F比の値\n",
        "one_sided_pval1 = stats.f.cdf(f, A_df, B_df)  # 片側検定のp値 1\n",
        "one_sided_pval2 = stats.f.sf(f, A_df, B_df)   # 片側検定のp値 2\n",
        "two_sided_pval = min(one_sided_pval1, one_sided_pval2) * 2  # 両側検定のp値\n",
        "\n",
        "print('F:       ', round(f, 3))\n",
        "print('p-value: ', two_sided_pval)\n",
        "\n",
        "stats.ttest_ind(A, B, equal_var=False)"
      ],
      "metadata": {
        "id": "b36kGwf6ahhS"
      },
      "execution_count": null,
      "outputs": []
    }
  ]
}