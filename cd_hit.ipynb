{
  "nbformat": 4,
  "nbformat_minor": 0,
  "metadata": {
    "colab": {
      "provenance": [],
      "mount_file_id": "1D0pu82xelaDTbRRbcnDqxHCdiXV9Gtgy",
      "authorship_tag": "ABX9TyN1dl/7JQQxUPJpAhOvkBzN",
      "include_colab_link": true
    },
    "kernelspec": {
      "name": "python3",
      "display_name": "Python 3"
    },
    "language_info": {
      "name": "python"
    }
  },
  "cells": [
    {
      "cell_type": "markdown",
      "metadata": {
        "id": "view-in-github",
        "colab_type": "text"
      },
      "source": [
        "<a href=\"https://colab.research.google.com/github/minami1009/bio/blob/main/cd_hit.ipynb\" target=\"_parent\"><img src=\"https://colab.research.google.com/assets/colab-badge.svg\" alt=\"Open In Colab\"/></a>"
      ]
    },
    {
      "cell_type": "markdown",
      "source": [
        "# CD-HIT\n",
        "似た塩基配列・アミノ酸配列のクラスタリングを行うツール\n",
        "\n",
        "参考　https://kazumaxneo.hatenablog.com/entry/2017/08/03/191326"
      ],
      "metadata": {
        "id": "WVNGwUebM5Fm"
      }
    },
    {
      "cell_type": "code",
      "source": [
        "#@title GoogleDriveのマウント\n",
        "#@markdown マイドライブ直下にcdhitフォルダを作っておき、そこにインプットファイルを入れておく\n",
        "from google import colab\n",
        "colab.drive.mount(\"/content/gdrive\")\n",
        "\n",
        "import sys\n",
        "ROOT_PATH = \"gdrive/MyDrive/cdhit\"\n",
        "sys.path.append(ROOT_PATH)\n",
        "\n",
        "!cd \"/content/gdrive/MyDrive/cdhit/\""
      ],
      "metadata": {
        "cellView": "form",
        "id": "p_xUi2RmHQzr"
      },
      "execution_count": null,
      "outputs": []
    },
    {
      "cell_type": "code",
      "source": [
        "#@title cd-hitをbiocondaからインストール\n",
        "!pip install -q condacolab\n",
        "import condacolab\n",
        "condacolab.install_miniconda()\n",
        "\n",
        "!conda install -c bioconda -y cd-hit"
      ],
      "metadata": {
        "cellView": "form",
        "id": "PX3zJ7wZFRaQ"
      },
      "execution_count": null,
      "outputs": []
    },
    {
      "cell_type": "code",
      "source": [
        "#@title インストールされていることを確認する\n",
        "!cd-hit"
      ],
      "metadata": {
        "cellView": "form",
        "id": "9q1Va6-zD6Zm"
      },
      "execution_count": null,
      "outputs": []
    },
    {
      "cell_type": "code",
      "source": [
        "#@title cd-hitを実行\n",
        "#@markdown DNAのクラスタリングをする際は最初をcd-hit-estにする\n",
        "\n",
        "#@markdown オプションは上のセルを参照。ここでは、-i インプットファイル名, -c 折りたたむ相同配列のsequence identity, -T スレッド数, -M メモリ上限（MB), -o アウトプットファイル名\n",
        "\n",
        "!cd-hit -i seqdump.faa -c 0.90 -T 2 -M 4000 -o output.faa"
      ],
      "metadata": {
        "cellView": "form",
        "id": "-RCnxdPVDb2l"
      },
      "execution_count": null,
      "outputs": []
    },
    {
      "cell_type": "code",
      "source": [
        "#@title アウトプットファイルをGoogleドライブのcdhitフォルダ内に移動\n",
        "!mv output.faa /content/gdrive/MyDrive/cdhit/output.faa\n",
        "!mv output.faa.clstr /content/gdrive/MyDrive/cdhit/output.faa.clstr"
      ],
      "metadata": {
        "colab": {
          "base_uri": "https://localhost:8080/"
        },
        "cellView": "form",
        "id": "uPXVjH9mLXCw",
        "outputId": "3bed1f7b-8393-45bb-8d40-78b6df4d4626"
      },
      "execution_count": 21,
      "outputs": [
        {
          "output_type": "stream",
          "name": "stdout",
          "text": [
            "mv: cannot stat 'output.faa': No such file or directory\n"
          ]
        }
      ]
    }
  ]
}