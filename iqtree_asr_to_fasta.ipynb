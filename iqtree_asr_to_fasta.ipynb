{
  "nbformat": 4,
  "nbformat_minor": 0,
  "metadata": {
    "colab": {
      "provenance": [],
      "authorship_tag": "ABX9TyOyG5pwCvRSVXQ6dj+xOduB",
      "include_colab_link": true
    },
    "kernelspec": {
      "name": "python3",
      "display_name": "Python 3"
    },
    "language_info": {
      "name": "python"
    }
  },
  "cells": [
    {
      "cell_type": "markdown",
      "metadata": {
        "id": "view-in-github",
        "colab_type": "text"
      },
      "source": [
        "<a href=\"https://colab.research.google.com/github/minami1009/bio/blob/main/iqtree_asr_to_fasta.ipynb\" target=\"_parent\"><img src=\"https://colab.research.google.com/assets/colab-badge.svg\" alt=\"Open In Colab\"/></a>"
      ]
    },
    {
      "cell_type": "code",
      "source": [
        "#@title GoogleDriveのマウント\n",
        "#@markdown マイドライブ直下にcdhitフォルダを作っておき、そこにインプットファイルを入れておく\n",
        "from google import colab\n",
        "colab.drive.mount(\"/content/gdrive\")\n",
        "\n",
        "import sys\n",
        "ROOT_PATH = \"gdrive/MyDrive/tree/iqtree_asr\"\n",
        "sys.path.append(ROOT_PATH)\n",
        "\n",
        "%cd \"/content/gdrive/MyDrive/tree/iqtree_asr/\""
      ],
      "metadata": {
        "colab": {
          "base_uri": "https://localhost:8080/"
        },
        "id": "Ox2zI13SxVHk",
        "outputId": "0e186db5-9fad-4517-efbb-21afc9a9e8aa"
      },
      "execution_count": null,
      "outputs": [
        {
          "output_type": "stream",
          "name": "stdout",
          "text": [
            "Drive already mounted at /content/gdrive; to attempt to forcibly remount, call drive.mount(\"/content/gdrive\", force_remount=True).\n",
            "/content/gdrive/MyDrive/tree/rny1\n"
          ]
        }
      ]
    },
    {
      "cell_type": "code",
      "source": [
        "#@title インプット・アウトプットファイル名の指定\n",
        "asr_state_infile = \"iqtree_asr.state\" #@param {type:\"string\"}\n",
        "asr_fasta_outfile = \"iqtree_asr_output.fasta\" #@param {type:\"string\"}"
      ],
      "metadata": {
        "id": "sNWR6cW3xo1y"
      },
      "execution_count": null,
      "outputs": []
    },
    {
      "cell_type": "code",
      "execution_count": null,
      "metadata": {
        "id": "bih7M3ZIwyeN"
      },
      "outputs": [],
      "source": [
        "#参考：https://qiita.com/moshi/items/bf5ef1aaaae46f9544ef\n",
        "import csv\n",
        "from collections import defaultdict\n",
        "\n",
        "\n",
        "node_name2asr_seq = defaultdict(str)\n",
        "with open(asr_state_infile) as f:\n",
        "    reader = csv.reader(f, delimiter=\"\\t\")\n",
        "    for row in reader:\n",
        "        # Skip header row\n",
        "        if row[0].startswith(\"#\"):\n",
        "            continue\n",
        "        # Record node_name & asr_seq\n",
        "        node_name, aa_pos, asr_aa, prob_list = row[0], row[1], row[2], row[3:]\n",
        "        node_name2asr_seq[node_name] += asr_aa\n",
        "\n",
        "with open(asr_fasta_outfile, \"w\") as f:\n",
        "    for node_name, asr_seq in sorted(node_name2asr_seq.items()):\n",
        "        f.write(f\">{node_name}\\n{asr_seq}\\n\")"
      ]
    }
  ]
}