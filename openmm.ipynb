{
  "nbformat": 4,
  "nbformat_minor": 0,
  "metadata": {
    "colab": {
      "name": "openmm.ipynb",
      "provenance": [],
      "collapsed_sections": [],
      "mount_file_id": "1HfQzOnueAKIbEMt526JrT9yKPz3aNgbG",
      "authorship_tag": "ABX9TyPKxa4/bokqsu4sCr2QxXjB",
      "include_colab_link": true
    },
    "kernelspec": {
      "name": "python3",
      "display_name": "Python 3"
    },
    "language_info": {
      "name": "python"
    },
    "accelerator": "GPU"
  },
  "cells": [
    {
      "cell_type": "markdown",
      "metadata": {
        "id": "view-in-github",
        "colab_type": "text"
      },
      "source": [
        "<a href=\"https://colab.research.google.com/github/minami1009/bio/blob/main/openmm.ipynb\" target=\"_parent\"><img src=\"https://colab.research.google.com/assets/colab-badge.svg\" alt=\"Open In Colab\"/></a>"
      ]
    },
    {
      "cell_type": "code",
      "execution_count": null,
      "metadata": {
        "id": "YQ4sHQVop_qw"
      },
      "outputs": [],
      "source": [
        "#最初にminicondaをインストール\n",
        "!wget -qnc https://repo.anaconda.com/miniconda/Miniconda3-latest-Linux-x86_64.sh\n",
        "!bash Miniconda3-latest-Linux-x86_64.sh -bfp /usr/local\n",
        "!rm Miniconda3-latest-Linux-x86_64.sh"
      ]
    },
    {
      "cell_type": "code",
      "source": [
        "#OpenMMをconda-forgeチャンネルからインストール\n",
        "!conda install -c conda-forge openmm=7.6 python=3.7 -y \n",
        "\n",
        "#OpenMMが使えるようにパスを通しておく\n",
        "import sys\n",
        "sys.path.append('/usr/local/lib/python3.7/site-packages/')"
      ],
      "metadata": {
        "id": "l90dkw05qT1M"
      },
      "execution_count": null,
      "outputs": []
    },
    {
      "cell_type": "code",
      "source": [
        "from google.colab import files"
      ],
      "metadata": {
        "id": "xShTnAesrDDn"
      },
      "execution_count": null,
      "outputs": []
    },
    {
      "cell_type": "code",
      "source": [
        "#openmm-setupで準備したpythonプログラムを実行\n",
        "%run run_openmm_simulation.py"
      ],
      "metadata": {
        "id": "rhT0Wnd2qfFr"
      },
      "execution_count": null,
      "outputs": []
    },
    {
      "cell_type": "code",
      "source": [
        "#できあがったファイルをとにかくダウンロードしておく\n",
        "files.download(\"trajectory.dcd\")\n",
        "files.download(\"log.txt\")\n",
        "files.download(\"checkpoint.chk\")\n",
        "files.download(\"system.xml\")\n",
        "files.download(\"final_state.pdbx\")"
      ],
      "metadata": {
        "id": "7AtgyRwVrBDK"
      },
      "execution_count": null,
      "outputs": []
    },
    {
      "cell_type": "code",
      "source": [
        "#ここからpytrajでtrajectoryファイルを見る\n",
        "!conda install -c ambermd pytraj  --yes 2>&1 1>/dev/null\n",
        "\n",
        "import pandas as pd\n",
        "import matplotlib.pyplot as plt\n",
        "import pytraj as pt\n",
        "import numpy as np\n",
        "import os\n",
        "\n",
        "workDir = '/content/drive/MyDrive/'\n",
        "\n",
        "#ローカルで作ったtrajectoryファイルを読み込むならここに入れる\n",
        "#pt.iterloadの引数は1つ目がtrajectoryファイル(.dcd)、2つ目が初期状態のpdbファイル\n",
        "#上で作ったtrajectoryファイルの場合は適当に1つ目の引数を変える\n",
        "traj = pt.iterload('/content/drive/Othercomputers/MacBook_home/modelling/openmm/300ns/trajectory.dcd','2z70-processed.pdb')\n",
        "print(traj)"
      ],
      "metadata": {
        "id": "5BMxL0wsJ2Og"
      },
      "execution_count": 4,
      "outputs": []
    },
    {
      "cell_type": "code",
      "source": [
        "rmsd = pt.rmsd(traj, ref = 0, mask = \"@CA\")\n",
        "\n",
        "#ここの2つの0.2は適宜変える\n",
        "#今回は0.2nsごとに1500回やっているのでxlimはmax300にしている\n",
        "time = len(rmsd)*0.2\n",
        "time_array = np.arange(0,time,0.2)\n",
        "\n",
        "ax = plt.plot(time_array, rmsd, alpha=0.6, color = 'blue', linewidth = 1.0)\n",
        "plt.xlim(0, 300)\n",
        "plt.ylim(0)\n",
        "\n",
        "plt.xlabel(\"Time (ns)\", fontsize = 14, fontweight = 'bold')\n",
        "plt.ylabel(\"RMSD [$\\AA$]\", fontsize = 14, fontweight = 'bold')\n",
        "plt.xticks(fontsize = 12)\n",
        "plt.yticks(fontsize = 12)\n",
        "plt.savefig(os.path.join(workDir, \"rmsd.png\"), dpi=600, bbox_inches='tight')\n",
        "\n",
        "raw_data=pd.DataFrame(rmsd)\n",
        "raw_data.to_csv(os.path.join(workDir, \"rmsd.csv\"))"
      ],
      "metadata": {
        "id": "eA9Ky0OmLDgx"
      },
      "execution_count": null,
      "outputs": []
    }
  ]
}